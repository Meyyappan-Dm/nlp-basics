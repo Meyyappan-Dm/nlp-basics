{
 "cells": [
  {
   "cell_type": "code",
   "execution_count": 2,
   "id": "fe69174f-8ab2-4f90-80e8-704b1a66e48a",
   "metadata": {},
   "outputs": [],
   "source": [
    "import pandas as pd"
   ]
  },
  {
   "cell_type": "code",
   "execution_count": 4,
   "id": "82a57a4b-655a-4824-bba3-594952b19eb1",
   "metadata": {},
   "outputs": [],
   "source": [
    "df = pd.read_csv('train.csv')"
   ]
  },
  {
   "cell_type": "code",
   "execution_count": 8,
   "id": "2614ccd4-39e1-4d25-a2ff-953865222982",
   "metadata": {},
   "outputs": [
    {
     "data": {
      "text/html": [
       "<div>\n",
       "<style scoped>\n",
       "    .dataframe tbody tr th:only-of-type {\n",
       "        vertical-align: middle;\n",
       "    }\n",
       "\n",
       "    .dataframe tbody tr th {\n",
       "        vertical-align: top;\n",
       "    }\n",
       "\n",
       "    .dataframe thead th {\n",
       "        text-align: right;\n",
       "    }\n",
       "</style>\n",
       "<table border=\"1\" class=\"dataframe\">\n",
       "  <thead>\n",
       "    <tr style=\"text-align: right;\">\n",
       "      <th></th>\n",
       "      <th>id</th>\n",
       "      <th>anchor</th>\n",
       "      <th>target</th>\n",
       "      <th>context</th>\n",
       "      <th>score</th>\n",
       "    </tr>\n",
       "  </thead>\n",
       "  <tbody>\n",
       "    <tr>\n",
       "      <th>0</th>\n",
       "      <td>37d61fd2272659b1</td>\n",
       "      <td>abatement</td>\n",
       "      <td>abatement of pollution</td>\n",
       "      <td>A47</td>\n",
       "      <td>0.50</td>\n",
       "    </tr>\n",
       "    <tr>\n",
       "      <th>1</th>\n",
       "      <td>7b9652b17b68b7a4</td>\n",
       "      <td>abatement</td>\n",
       "      <td>act of abating</td>\n",
       "      <td>A47</td>\n",
       "      <td>0.75</td>\n",
       "    </tr>\n",
       "    <tr>\n",
       "      <th>2</th>\n",
       "      <td>36d72442aefd8232</td>\n",
       "      <td>abatement</td>\n",
       "      <td>active catalyst</td>\n",
       "      <td>A47</td>\n",
       "      <td>0.25</td>\n",
       "    </tr>\n",
       "  </tbody>\n",
       "</table>\n",
       "</div>"
      ],
      "text/plain": [
       "                 id     anchor                  target context  score\n",
       "0  37d61fd2272659b1  abatement  abatement of pollution     A47   0.50\n",
       "1  7b9652b17b68b7a4  abatement          act of abating     A47   0.75\n",
       "2  36d72442aefd8232  abatement         active catalyst     A47   0.25"
      ]
     },
     "execution_count": 8,
     "metadata": {},
     "output_type": "execute_result"
    }
   ],
   "source": [
    "df.head(3)"
   ]
  },
  {
   "cell_type": "code",
   "execution_count": 10,
   "id": "5c7df622-566a-4561-a0a2-29ba7c93000c",
   "metadata": {},
   "outputs": [
    {
     "data": {
      "text/html": [
       "<div>\n",
       "<style scoped>\n",
       "    .dataframe tbody tr th:only-of-type {\n",
       "        vertical-align: middle;\n",
       "    }\n",
       "\n",
       "    .dataframe tbody tr th {\n",
       "        vertical-align: top;\n",
       "    }\n",
       "\n",
       "    .dataframe thead th {\n",
       "        text-align: right;\n",
       "    }\n",
       "</style>\n",
       "<table border=\"1\" class=\"dataframe\">\n",
       "  <thead>\n",
       "    <tr style=\"text-align: right;\">\n",
       "      <th></th>\n",
       "      <th>id</th>\n",
       "      <th>anchor</th>\n",
       "      <th>target</th>\n",
       "      <th>context</th>\n",
       "    </tr>\n",
       "  </thead>\n",
       "  <tbody>\n",
       "    <tr>\n",
       "      <th>count</th>\n",
       "      <td>36473</td>\n",
       "      <td>36473</td>\n",
       "      <td>36473</td>\n",
       "      <td>36473</td>\n",
       "    </tr>\n",
       "    <tr>\n",
       "      <th>unique</th>\n",
       "      <td>36473</td>\n",
       "      <td>733</td>\n",
       "      <td>29340</td>\n",
       "      <td>106</td>\n",
       "    </tr>\n",
       "    <tr>\n",
       "      <th>top</th>\n",
       "      <td>8d135da0b55b8c88</td>\n",
       "      <td>component composite coating</td>\n",
       "      <td>composition</td>\n",
       "      <td>H01</td>\n",
       "    </tr>\n",
       "    <tr>\n",
       "      <th>freq</th>\n",
       "      <td>1</td>\n",
       "      <td>152</td>\n",
       "      <td>24</td>\n",
       "      <td>2186</td>\n",
       "    </tr>\n",
       "  </tbody>\n",
       "</table>\n",
       "</div>"
      ],
      "text/plain": [
       "                      id                       anchor       target context\n",
       "count              36473                        36473        36473   36473\n",
       "unique             36473                          733        29340     106\n",
       "top     8d135da0b55b8c88  component composite coating  composition     H01\n",
       "freq                   1                          152           24    2186"
      ]
     },
     "execution_count": 10,
     "metadata": {},
     "output_type": "execute_result"
    }
   ],
   "source": [
    "df.describe(include='object')"
   ]
  },
  {
   "cell_type": "code",
   "execution_count": 16,
   "id": "765c1ae1-9f50-4d65-b655-204108f175df",
   "metadata": {},
   "outputs": [],
   "source": [
    "df['input'] = 'TEXT1: ' + df.context + '; TEXT2: ' + df.target + '; ANC1: ' + df.anchor "
   ]
  },
  {
   "cell_type": "code",
   "execution_count": 18,
   "id": "2e7314f3-30cb-4c38-a74b-5f9ebda132fd",
   "metadata": {},
   "outputs": [
    {
     "data": {
      "text/plain": [
       "0    TEXT1: A47; TEXT2: abatement of pollution; ANC...\n",
       "1    TEXT1: A47; TEXT2: act of abating; ANC1: abate...\n",
       "2    TEXT1: A47; TEXT2: active catalyst; ANC1: abat...\n",
       "3    TEXT1: A47; TEXT2: eliminating process; ANC1: ...\n",
       "4    TEXT1: A47; TEXT2: forest region; ANC1: abatement\n",
       "Name: input, dtype: object"
      ]
     },
     "execution_count": 18,
     "metadata": {},
     "output_type": "execute_result"
    }
   ],
   "source": [
    "df.input.head()"
   ]
  },
  {
   "cell_type": "code",
   "execution_count": 20,
   "id": "e89935dd-b64b-4eed-90bc-78600785d628",
   "metadata": {},
   "outputs": [
    {
     "name": "stderr",
     "output_type": "stream",
     "text": [
      "C:\\Users\\Lenovo\\miniforge3\\envs\\dl_gpu\\lib\\site-packages\\tqdm\\auto.py:21: TqdmWarning: IProgress not found. Please update jupyter and ipywidgets. See https://ipywidgets.readthedocs.io/en/stable/user_install.html\n",
      "  from .autonotebook import tqdm as notebook_tqdm\n"
     ]
    }
   ],
   "source": [
    "#Tokenisation\n",
    "from datasets import Dataset, DatasetDict"
   ]
  },
  {
   "cell_type": "code",
   "execution_count": 22,
   "id": "bc8a5e69-84cf-4f88-8dcb-bb9c87721448",
   "metadata": {},
   "outputs": [],
   "source": [
    "ds = Dataset.from_pandas(df)"
   ]
  },
  {
   "cell_type": "code",
   "execution_count": 24,
   "id": "22e5a204-01d2-4791-82f7-4e81db0535c9",
   "metadata": {},
   "outputs": [
    {
     "data": {
      "text/plain": [
       "Dataset({\n",
       "    features: ['id', 'anchor', 'target', 'context', 'score', 'input'],\n",
       "    num_rows: 36473\n",
       "})"
      ]
     },
     "execution_count": 24,
     "metadata": {},
     "output_type": "execute_result"
    }
   ],
   "source": [
    "ds"
   ]
  },
  {
   "cell_type": "code",
   "execution_count": 60,
   "id": "b06ef8a9-cdde-4e10-8fe5-992304488924",
   "metadata": {},
   "outputs": [],
   "source": [
    "#AutoTokenizer will create a tokenizer appropriate for a given model\n",
    "from transformers import AutoTokenizer, AutoModel\n",
    "import tiktoken"
   ]
  },
  {
   "cell_type": "code",
   "execution_count": 64,
   "id": "ac56cabb-06bc-4dd9-a2a9-c4d023af6878",
   "metadata": {},
   "outputs": [],
   "source": [
    "tokenizer = AutoTokenizer.from_pretrained(\"bert-base-uncased\")\n",
    "model = AutoModel.from_pretrained(\"bert-base-uncased\")"
   ]
  },
  {
   "cell_type": "code",
   "execution_count": 66,
   "id": "ab9a1e5c-7a38-4ef8-b364-2ce6ee3e4252",
   "metadata": {},
   "outputs": [
    {
     "data": {
      "text/plain": [
       "['hi',\n",
       " ',',\n",
       " 'this',\n",
       " 'is',\n",
       " 'me',\n",
       " '##y',\n",
       " 'experimenting',\n",
       " 'with',\n",
       " 'this',\n",
       " 'stuff']"
      ]
     },
     "execution_count": 66,
     "metadata": {},
     "output_type": "execute_result"
    }
   ],
   "source": [
    "tokenizer.tokenize(\"Hi, This is Mey experimenting with this stuff\")"
   ]
  },
  {
   "cell_type": "code",
   "execution_count": 68,
   "id": "84dcc90d-a948-4844-9732-8e04b819a04d",
   "metadata": {},
   "outputs": [],
   "source": [
    "def tok_func(x): \n",
    "    return tokenizer(x[\"input\"])"
   ]
  },
  {
   "cell_type": "code",
   "execution_count": 70,
   "id": "bd55f417-092f-4506-9cb8-07ea3a1ca0c7",
   "metadata": {},
   "outputs": [
    {
     "name": "stderr",
     "output_type": "stream",
     "text": [
      "Map: 100%|██████████| 36473/36473 [00:00<00:00, 38953.02 examples/s]\n"
     ]
    }
   ],
   "source": [
    "tok_ds = ds.map(tok_func, batched=True)"
   ]
  },
  {
   "cell_type": "code",
   "execution_count": 72,
   "id": "e58e1943-1d07-45dc-ae34-79d2c1894bdd",
   "metadata": {},
   "outputs": [
    {
     "data": {
      "text/plain": [
       "('TEXT1: A47; TEXT2: abatement of pollution; ANC1: abatement',\n",
       " [101,\n",
       "  3793,\n",
       "  2487,\n",
       "  1024,\n",
       "  1037,\n",
       "  22610,\n",
       "  1025,\n",
       "  3793,\n",
       "  2475,\n",
       "  1024,\n",
       "  19557,\n",
       "  18532,\n",
       "  4765,\n",
       "  1997,\n",
       "  10796,\n",
       "  1025,\n",
       "  2019,\n",
       "  2278,\n",
       "  2487,\n",
       "  1024,\n",
       "  19557,\n",
       "  18532,\n",
       "  4765,\n",
       "  102])"
      ]
     },
     "execution_count": 72,
     "metadata": {},
     "output_type": "execute_result"
    }
   ],
   "source": [
    "row = tok_ds[0]\n",
    "row['input'], row['input_ids']"
   ]
  },
  {
   "cell_type": "code",
   "execution_count": 74,
   "id": "6542f09e-7c5c-4b89-8597-1d766ee509a4",
   "metadata": {},
   "outputs": [
    {
     "data": {
      "text/plain": [
       "1997"
      ]
     },
     "execution_count": 74,
     "metadata": {},
     "output_type": "execute_result"
    }
   ],
   "source": [
    "tokenizer.vocab['of']"
   ]
  },
  {
   "cell_type": "code",
   "execution_count": 76,
   "id": "e7403922-737a-4b22-944c-106d784dd3b8",
   "metadata": {},
   "outputs": [],
   "source": [
    "#preparing data with labels\n",
    "tok_ds = tok_ds.rename_columns({'score':'labels'})"
   ]
  },
  {
   "cell_type": "code",
   "execution_count": 78,
   "id": "1fb50520-ee97-4041-9fdb-fedc2c8b0904",
   "metadata": {},
   "outputs": [
    {
     "data": {
      "text/html": [
       "<div>\n",
       "<style scoped>\n",
       "    .dataframe tbody tr th:only-of-type {\n",
       "        vertical-align: middle;\n",
       "    }\n",
       "\n",
       "    .dataframe tbody tr th {\n",
       "        vertical-align: top;\n",
       "    }\n",
       "\n",
       "    .dataframe thead th {\n",
       "        text-align: right;\n",
       "    }\n",
       "</style>\n",
       "<table border=\"1\" class=\"dataframe\">\n",
       "  <thead>\n",
       "    <tr style=\"text-align: right;\">\n",
       "      <th></th>\n",
       "      <th>id</th>\n",
       "      <th>anchor</th>\n",
       "      <th>target</th>\n",
       "      <th>context</th>\n",
       "    </tr>\n",
       "  </thead>\n",
       "  <tbody>\n",
       "    <tr>\n",
       "      <th>count</th>\n",
       "      <td>36</td>\n",
       "      <td>36</td>\n",
       "      <td>36</td>\n",
       "      <td>36</td>\n",
       "    </tr>\n",
       "    <tr>\n",
       "      <th>unique</th>\n",
       "      <td>36</td>\n",
       "      <td>34</td>\n",
       "      <td>36</td>\n",
       "      <td>29</td>\n",
       "    </tr>\n",
       "    <tr>\n",
       "      <th>top</th>\n",
       "      <td>4112d61851461f60</td>\n",
       "      <td>hybrid bearing</td>\n",
       "      <td>inorganic photoconductor drum</td>\n",
       "      <td>G02</td>\n",
       "    </tr>\n",
       "    <tr>\n",
       "      <th>freq</th>\n",
       "      <td>1</td>\n",
       "      <td>2</td>\n",
       "      <td>1</td>\n",
       "      <td>3</td>\n",
       "    </tr>\n",
       "  </tbody>\n",
       "</table>\n",
       "</div>"
      ],
      "text/plain": [
       "                      id          anchor                         target  \\\n",
       "count                 36              36                             36   \n",
       "unique                36              34                             36   \n",
       "top     4112d61851461f60  hybrid bearing  inorganic photoconductor drum   \n",
       "freq                   1               2                              1   \n",
       "\n",
       "       context  \n",
       "count       36  \n",
       "unique      29  \n",
       "top        G02  \n",
       "freq         3  "
      ]
     },
     "execution_count": 78,
     "metadata": {},
     "output_type": "execute_result"
    }
   ],
   "source": [
    "eval_df = pd.read_csv('test.csv')\n",
    "eval_df.describe()"
   ]
  },
  {
   "cell_type": "code",
   "execution_count": 84,
   "id": "cbf8282c-4a8f-45c4-840e-a1c6f8ffa02b",
   "metadata": {},
   "outputs": [],
   "source": [
    "#splitting data into train and test\n",
    "dds = tok_ds.train_test_split(0.25, seed=42)"
   ]
  },
  {
   "cell_type": "code",
   "execution_count": 86,
   "id": "998581f0-995e-4228-b6ba-7d033124f642",
   "metadata": {},
   "outputs": [
    {
     "data": {
      "text/plain": [
       "DatasetDict({\n",
       "    train: Dataset({\n",
       "        features: ['id', 'anchor', 'target', 'context', 'labels', 'input', 'input_ids', 'token_type_ids', 'attention_mask'],\n",
       "        num_rows: 27354\n",
       "    })\n",
       "    test: Dataset({\n",
       "        features: ['id', 'anchor', 'target', 'context', 'labels', 'input', 'input_ids', 'token_type_ids', 'attention_mask'],\n",
       "        num_rows: 9119\n",
       "    })\n",
       "})"
      ]
     },
     "execution_count": 86,
     "metadata": {},
     "output_type": "execute_result"
    }
   ],
   "source": [
    "dds"
   ]
  },
  {
   "cell_type": "code",
   "execution_count": 88,
   "id": "0aa6689d-75b4-4166-be6a-6582cfefc1e4",
   "metadata": {},
   "outputs": [
    {
     "name": "stderr",
     "output_type": "stream",
     "text": [
      "Map: 100%|██████████| 36/36 [00:00<00:00, 7169.07 examples/s]\n"
     ]
    }
   ],
   "source": [
    "eval_df['input'] = 'TEXT1: ' + eval_df.context + '; TEXT2: ' + eval_df.target + '; ANC1: ' + eval_df.anchor\n",
    "eval_ds = Dataset.from_pandas(eval_df).map(tok_func, batched=True)"
   ]
  },
  {
   "cell_type": "code",
   "execution_count": 90,
   "id": "c4dcdb9d-253f-4001-88de-14a1b7a11658",
   "metadata": {},
   "outputs": [],
   "source": [
    "def corr_d(eval_pred): \n",
    "    return {'pearson': corr(*eval_pred)}"
   ]
  },
  {
   "cell_type": "code",
   "execution_count": 102,
   "id": "a8ac180b-5a69-4a85-b8d8-2e9c55eddd8a",
   "metadata": {},
   "outputs": [],
   "source": [
    "from transformers import TrainingArguments,Trainer"
   ]
  },
  {
   "cell_type": "code",
   "execution_count": 104,
   "id": "4945947e-bda1-4dc7-b970-e0bc5d89e948",
   "metadata": {},
   "outputs": [],
   "source": [
    "bs = 128\n",
    "epochs = 5\n",
    "lr = 8e-5"
   ]
  },
  {
   "cell_type": "code",
   "execution_count": 119,
   "id": "3c7a6060-0010-42f5-a09f-c489f2ca1207",
   "metadata": {},
   "outputs": [],
   "source": [
    "args = TrainingArguments(\n",
    "    'outputs', \n",
    "    learning_rate=lr, \n",
    "    warmup_ratio=0.1, \n",
    "    lr_scheduler_type='cosine', \n",
    "    fp16=True,\n",
    "    per_device_train_batch_size=bs, \n",
    "    per_device_eval_batch_size=bs*2,\n",
    "    num_train_epochs=epochs, \n",
    "    weight_decay=0.01, \n",
    "    report_to='none'\n",
    ")"
   ]
  },
  {
   "cell_type": "code",
   "execution_count": 123,
   "id": "36ab0308-867b-406a-9a25-67251bb6ff3d",
   "metadata": {},
   "outputs": [
    {
     "name": "stderr",
     "output_type": "stream",
     "text": [
      "Some weights of BertForSequenceClassification were not initialized from the model checkpoint at bert-base-uncased and are newly initialized: ['classifier.bias', 'classifier.weight']\n",
      "You should probably TRAIN this model on a down-stream task to be able to use it for predictions and inference.\n",
      "C:\\Users\\Lenovo\\AppData\\Local\\Temp\\ipykernel_6320\\2233146803.py:3: FutureWarning: `tokenizer` is deprecated and will be removed in version 5.0.0 for `Trainer.__init__`. Use `processing_class` instead.\n",
      "  trainer = Trainer(model,\n"
     ]
    }
   ],
   "source": [
    "from transformers import AutoModelForSequenceClassification\n",
    "model = AutoModelForSequenceClassification .from_pretrained('bert-base-uncased', num_labels=1)\n",
    "trainer = Trainer(model,\n",
    "                  args,\n",
    "                  train_dataset=dds['train'], \n",
    "                  eval_dataset=dds['test'],\n",
    "                  tokenizer=tokenizer, \n",
    "                  compute_metrics=corr_d)"
   ]
  },
  {
   "cell_type": "code",
   "execution_count": 125,
   "id": "c4ca07a5-9e2d-4e55-9e0b-7c4defe4c58e",
   "metadata": {},
   "outputs": [
    {
     "data": {
      "text/html": [
       "\n",
       "    <div>\n",
       "      \n",
       "      <progress value='1070' max='1070' style='width:300px; height:20px; vertical-align: middle;'></progress>\n",
       "      [1070/1070 05:29, Epoch 5/5]\n",
       "    </div>\n",
       "    <table border=\"1\" class=\"dataframe\">\n",
       "  <thead>\n",
       " <tr style=\"text-align: left;\">\n",
       "      <th>Step</th>\n",
       "      <th>Training Loss</th>\n",
       "    </tr>\n",
       "  </thead>\n",
       "  <tbody>\n",
       "    <tr>\n",
       "      <td>500</td>\n",
       "      <td>0.037200</td>\n",
       "    </tr>\n",
       "    <tr>\n",
       "      <td>1000</td>\n",
       "      <td>0.012600</td>\n",
       "    </tr>\n",
       "  </tbody>\n",
       "</table><p>"
      ],
      "text/plain": [
       "<IPython.core.display.HTML object>"
      ]
     },
     "metadata": {},
     "output_type": "display_data"
    }
   ],
   "source": [
    "trainer.train();"
   ]
  },
  {
   "cell_type": "code",
   "execution_count": 127,
   "id": "ba3770b0-3d0a-49b2-b24f-f9f2b07b981e",
   "metadata": {},
   "outputs": [
    {
     "data": {
      "text/html": [],
      "text/plain": [
       "<IPython.core.display.HTML object>"
      ]
     },
     "metadata": {},
     "output_type": "display_data"
    },
    {
     "data": {
      "text/plain": [
       "array([[ 0.30932617],\n",
       "       [ 0.58740234],\n",
       "       [ 0.51367188],\n",
       "       [ 0.24621582],\n",
       "       [ 0.09088135],\n",
       "       [ 0.52392578],\n",
       "       [ 0.48901367],\n",
       "       [ 0.00737762],\n",
       "       [ 0.26098633],\n",
       "       [ 1.05957031],\n",
       "       [ 0.16369629],\n",
       "       [ 0.31298828],\n",
       "       [ 0.80371094],\n",
       "       [ 0.80273438],\n",
       "       [ 0.71582031],\n",
       "       [ 0.38256836],\n",
       "       [ 0.35742188],\n",
       "       [ 0.00855255],\n",
       "       [ 0.57373047],\n",
       "       [ 0.36914062],\n",
       "       [ 0.46484375],\n",
       "       [ 0.17431641],\n",
       "       [ 0.18041992],\n",
       "       [ 0.26049805],\n",
       "       [ 0.51416016],\n",
       "       [ 0.01332855],\n",
       "       [ 0.0107193 ],\n",
       "       [-0.00344849],\n",
       "       [ 0.00248337],\n",
       "       [ 0.70166016],\n",
       "       [ 0.38476562],\n",
       "       [ 0.00119114],\n",
       "       [ 0.74609375],\n",
       "       [ 0.54882812],\n",
       "       [ 0.39624023],\n",
       "       [ 0.27807617]])"
      ]
     },
     "execution_count": 127,
     "metadata": {},
     "output_type": "execute_result"
    }
   ],
   "source": [
    "preds = trainer.predict(eval_ds).predictions.astype(float)\n",
    "preds"
   ]
  },
  {
   "cell_type": "code",
   "execution_count": 131,
   "id": "9c295f92-e3a9-45f6-9b75-5a6ed9dedadf",
   "metadata": {},
   "outputs": [
    {
     "data": {
      "text/plain": [
       "array([[0.30932617],\n",
       "       [0.58740234],\n",
       "       [0.51367188],\n",
       "       [0.24621582],\n",
       "       [0.09088135],\n",
       "       [0.52392578],\n",
       "       [0.48901367],\n",
       "       [0.00737762],\n",
       "       [0.26098633],\n",
       "       [1.        ],\n",
       "       [0.16369629],\n",
       "       [0.31298828],\n",
       "       [0.80371094],\n",
       "       [0.80273438],\n",
       "       [0.71582031],\n",
       "       [0.38256836],\n",
       "       [0.35742188],\n",
       "       [0.00855255],\n",
       "       [0.57373047],\n",
       "       [0.36914062],\n",
       "       [0.46484375],\n",
       "       [0.17431641],\n",
       "       [0.18041992],\n",
       "       [0.26049805],\n",
       "       [0.51416016],\n",
       "       [0.01332855],\n",
       "       [0.0107193 ],\n",
       "       [0.        ],\n",
       "       [0.00248337],\n",
       "       [0.70166016],\n",
       "       [0.38476562],\n",
       "       [0.00119114],\n",
       "       [0.74609375],\n",
       "       [0.54882812],\n",
       "       [0.39624023],\n",
       "       [0.27807617]])"
      ]
     },
     "execution_count": 131,
     "metadata": {},
     "output_type": "execute_result"
    }
   ],
   "source": [
    "#to make the values<0->0 and values>1->1\n",
    "import numpy as np\n",
    "preds = np.clip(preds, 0, 1)\n",
    "preds"
   ]
  },
  {
   "cell_type": "code",
   "execution_count": null,
   "id": "70787093-2d22-483c-8c26-c3a267fe2ee5",
   "metadata": {},
   "outputs": [],
   "source": []
  }
 ],
 "metadata": {
  "kernelspec": {
   "display_name": "Python (dl_gpu)",
   "language": "python",
   "name": "dl_gpu"
  },
  "language_info": {
   "codemirror_mode": {
    "name": "ipython",
    "version": 3
   },
   "file_extension": ".py",
   "mimetype": "text/x-python",
   "name": "python",
   "nbconvert_exporter": "python",
   "pygments_lexer": "ipython3",
   "version": "3.10.18"
  }
 },
 "nbformat": 4,
 "nbformat_minor": 5
}
